{
 "nbformat": 4,
 "nbformat_minor": 2,
 "metadata": {
  "language_info": {
   "name": "python",
   "codemirror_mode": {
    "name": "ipython",
    "version": 3
   },
   "version": "3.6.9"
  },
  "orig_nbformat": 2,
  "file_extension": ".py",
  "mimetype": "text/x-python",
  "name": "python",
  "npconvert_exporter": "python",
  "pygments_lexer": "ipython3",
  "version": 3
 },
 "cells": [
  {
   "cell_type": "code",
   "execution_count": 1,
   "metadata": {},
   "outputs": [],
   "source": [
    "from py2neo import Node, Relationship"
   ]
  },
  {
   "cell_type": "code",
   "execution_count": 2,
   "metadata": {},
   "outputs": [
    {
     "data": {
      "text/plain": "(Alice)-[:KNOWS {}]->(Bob)"
     },
     "execution_count": 2,
     "metadata": {},
     "output_type": "execute_result"
    }
   ],
   "source": [
    "a = Node(\"Person\", name=\"Alice\")\n",
    "b = Node(\"Person\", name=\"Bob\")\n",
    "ab = Relationship(a, \"KNOWS\", b)\n",
    "ab"
   ]
  },
  {
   "cell_type": "code",
   "execution_count": 3,
   "metadata": {},
   "outputs": [
    {
     "name": "stdout",
     "output_type": "stream",
     "text": "a:  (:Person {age: 20, name: 'Alice'}) b:  (:Person {age: 21, name: 'Bob'}) ab:  (Alice)-[:KNOWS {time: '2019/12/02'}]->(Bob)\n"
    }
   ],
   "source": [
    "a['age'] = 20\n",
    "b['age'] = 21\n",
    "ab['time'] = '2019/12/02'\n",
    "print('a: ',a,'b: ',b,'ab: ',ab)"
   ]
  },
  {
   "cell_type": "code",
   "execution_count": 4,
   "metadata": {},
   "outputs": [
    {
     "name": "stdout",
     "output_type": "stream",
     "text": "(:Person {age: 20, location: 'Ottawa', name: 'Alice'})\n"
    }
   ],
   "source": [
    "a.setdefault('location','Ottawa')\n",
    "print(a)"
   ]
  },
  {
   "cell_type": "code",
   "execution_count": 5,
   "metadata": {},
   "outputs": [
    {
     "name": "stdout",
     "output_type": "stream",
     "text": "(:Person {age: 21, location: 'Ottawa', name: 'Amy'})\n"
    }
   ],
   "source": [
    "data = {\n",
    "    'name': 'Amy',\n",
    "    'age': 21\n",
    "}\n",
    "a.update(data)\n",
    "print(a)"
   ]
  },
  {
   "cell_type": "code",
   "execution_count": 6,
   "metadata": {},
   "outputs": [
    {
     "data": {
      "text/plain": "{'name': 'Amy', 'age': 21, 'location': 'Ottawa'}"
     },
     "execution_count": 6,
     "metadata": {},
     "output_type": "execute_result"
    }
   ],
   "source": [
    "dict(a)"
   ]
  },
  {
   "cell_type": "code",
   "execution_count": 10,
   "metadata": {},
   "outputs": [
    {
     "data": {
      "text/plain": "139920777307504"
     },
     "execution_count": 10,
     "metadata": {},
     "output_type": "execute_result"
    }
   ],
   "source": [
    "hash(a)"
   ]
  },
  {
   "cell_type": "code",
   "execution_count": 11,
   "metadata": {},
   "outputs": [
    {
     "data": {
      "text/plain": "3"
     },
     "execution_count": 11,
     "metadata": {},
     "output_type": "execute_result"
    }
   ],
   "source": [
    "len(a)"
   ]
  },
  {
   "cell_type": "code",
   "execution_count": 12,
   "metadata": {},
   "outputs": [
    {
     "data": {
      "text/plain": "<py2neo.data.Subgraph at 0x7f41d797e748>"
     },
     "execution_count": 12,
     "metadata": {},
     "output_type": "execute_result"
    }
   ],
   "source": [
    "s = a | b | ab\n",
    "s"
   ]
  },
  {
   "cell_type": "code",
   "execution_count": 14,
   "metadata": {},
   "outputs": [
    {
     "name": "stdout",
     "output_type": "stream",
     "text": "<py2neo.data.Subgraph object at 0x7f41d6565358>\n<py2neo.data.Subgraph object at 0x7f41d797e748>\n"
    }
   ],
   "source": [
    "s2 = a | b\n",
    "print(s2)\n",
    "print(s)"
   ]
  },
  {
   "cell_type": "code",
   "execution_count": 15,
   "metadata": {},
   "outputs": [
    {
     "data": {
      "text/plain": "<py2neo.data.Subgraph at 0x7f41d83a3f98>"
     },
     "execution_count": 15,
     "metadata": {},
     "output_type": "execute_result"
    }
   ],
   "source": [
    "s_all = s | s2\n",
    "s_all"
   ]
  },
  {
   "cell_type": "code",
   "execution_count": 18,
   "metadata": {},
   "outputs": [
    {
     "data": {
      "text/plain": "<generator object walk at 0x7f41d5e7fa98>"
     },
     "execution_count": 18,
     "metadata": {},
     "output_type": "execute_result"
    }
   ],
   "source": [
    "from py2neo import walk\n",
    "s_all_walk = walk(s_all)\n",
    "s_all_walk"
   ]
  },
  {
   "cell_type": "code",
   "execution_count": 19,
   "metadata": {},
   "outputs": [],
   "source": [
    "c = Node('Person', name='Mike')\n",
    "ac = Relationship(a, \"KNOWS\", c)\n",
    "w = ab + Relationship(b, \"LIKES\", c) + ac\n"
   ]
  },
  {
   "cell_type": "code",
   "execution_count": 20,
   "metadata": {},
   "outputs": [
    {
     "name": "stdout",
     "output_type": "stream",
     "text": "(:Person {age: 21, location: 'Ottawa', name: 'Amy'})\n(Amy)-[:KNOWS {time: '2019/12/02'}]->(Bob)\n(:Person {age: 21, name: 'Bob'})\n(Bob)-[:LIKES {}]->(Mike)\n(:Person {name: 'Mike'})\n(Amy)-[:KNOWS {}]->(Mike)\n(:Person {age: 21, location: 'Ottawa', name: 'Amy'})\n"
    }
   ],
   "source": [
    "\n",
    "for item in walk(w):\n",
    "    print(item)"
   ]
  },
  {
   "cell_type": "code",
   "execution_count": 23,
   "metadata": {},
   "outputs": [
    {
     "name": "stdout",
     "output_type": "stream",
     "text": "<py2neo.data.Subgraph object at 0x7f41d83a3f98>\n"
    }
   ],
   "source": [
    "print(s_all)"
   ]
  },
  {
   "cell_type": "code",
   "execution_count": 7,
   "metadata": {},
   "outputs": [
    {
     "name": "stdout",
     "output_type": "stream",
     "text": "done~\n"
    }
   ],
   "source": [
    "from py2neo import Graph\n",
    "test_graph = Graph()\n",
    "print('done~')"
   ]
  },
  {
   "cell_type": "code",
   "execution_count": 25,
   "metadata": {},
   "outputs": [
    {
     "name": "stdout",
     "output_type": "stream",
     "text": "{'name': 'Amy', 'age': 21, 'location': 'Ottawa'}\n{'time': '2019/12/02'}\n{'name': 'Bob', 'age': 21}\n{}\n{'name': 'Mike'}\n{}\n{'name': 'Amy', 'age': 21, 'location': 'Ottawa'}\n"
    }
   ],
   "source": [
    "for item in walk(w):\n",
    "    print(dict(item))"
   ]
  },
  {
   "cell_type": "code",
   "execution_count": 9,
   "metadata": {},
   "outputs": [],
   "source": [
    "graph = Graph(password='aaduser')\n",
    "# graph.create(s)"
   ]
  },
  {
   "cell_type": "code",
   "execution_count": 27,
   "metadata": {},
   "outputs": [
    {
     "data": {
      "text/plain": "True"
     },
     "execution_count": 27,
     "metadata": {},
     "output_type": "execute_result"
    }
   ],
   "source": [
    "graph.exists(b)"
   ]
  },
  {
   "cell_type": "code",
   "execution_count": 28,
   "metadata": {},
   "outputs": [
    {
     "data": {
      "text/plain": "(_838485:Officer {countries: 'Taiwan', country_codes: 'TWN', name: 'NIU, Fu-Tsang', node_id: '71202', sourceID: 'Offshore Leaks', valid_until: 'The Offshore Leaks data is current through 2010'})"
     },
     "execution_count": 28,
     "metadata": {},
     "output_type": "execute_result"
    }
   ],
   "source": [
    "len(graph.nodes)\n",
    "graph.nodes[838485]"
   ]
  },
  {
   "cell_type": "code",
   "execution_count": 29,
   "metadata": {},
   "outputs": [
    {
     "data": {
      "text/plain": "<py2neo.matching.RelationshipMatch at 0x7f41d49660b8>"
     },
     "execution_count": 29,
     "metadata": {},
     "output_type": "execute_result"
    }
   ],
   "source": [
    "match1 = graph.match(\"match (a:Person {name:'Bob'}) return a\")\n",
    "match1"
   ]
  },
  {
   "cell_type": "code",
   "execution_count": 30,
   "metadata": {},
   "outputs": [
    {
     "data": {
      "text/plain": "(_839613:Person {age: 44, name: 'Bob'})"
     },
     "execution_count": 30,
     "metadata": {},
     "output_type": "execute_result"
    }
   ],
   "source": [
    "from py2neo import NodeMatcher\n",
    "matcher = NodeMatcher(graph)\n",
    "matcher.match(\"Person\",name=\"Bob\").first()"
   ]
  },
  {
   "cell_type": "code",
   "execution_count": 31,
   "metadata": {},
   "outputs": [
    {
     "data": {
      "text/plain": "(_838485:Officer {countries: 'Taiwan', country_codes: 'TWN', name: 'NIU, Fu-Tsang', node_id: '71202', sourceID: 'Offshore Leaks', valid_until: 'The Offshore Leaks data is current through 2010'})"
     },
     "execution_count": 31,
     "metadata": {},
     "output_type": "execute_result"
    }
   ],
   "source": [
    "matcher.match(\"Officer\", name=\"NIU, Fu-Tsang\").first()"
   ]
  },
  {
   "cell_type": "code",
   "execution_count": 32,
   "metadata": {},
   "outputs": [
    {
     "name": "stdout",
     "output_type": "stream",
     "text": "(_839483:Person {born: 1961, name: 'Bonnie Hunt'})\n(_839516:Person {born: 1953, name: 'Bill Pullman'})\n(_839523:Person {born: 1948, name: 'Billy Crystal'})\n(_839525:Person {born: 1949, name: 'Bruno Kirby'})\n(_839529:Person {born: 1970, name: 'Brooke Langton'})\n(_839561:Person {born: 1967, name: 'Ben Miles'})\n(_839587:Person {born: 1955, name: 'Bill Paxton'})\n(_839613:Person {age: 44, name: 'Bob'})\n(_839634:Person {age: 21, name: 'Bob'})\n(_839636:Person {age: 21, name: 'Bob'})\n(_839638:Person {age: 21, name: 'Bob'})\n(_839640:Person {age: 21, name: 'Bob'})\n(_839642:Person {age: 21, name: 'Bob'})\n(_839644:Person {age: 21, name: 'Bob'})\n"
    }
   ],
   "source": [
    "match_name = matcher.match(\"Person\",name__startswith=\"B\")\n",
    "for node in match_name:\n",
    "    print(node)"
   ]
  },
  {
   "cell_type": "code",
   "execution_count": 33,
   "metadata": {},
   "outputs": [],
   "source": [
    "match_all_person = matcher.match(\"Person\").limit(20)"
   ]
  },
  {
   "cell_type": "code",
   "execution_count": 11,
   "metadata": {},
   "outputs": [
    {
     "name": "stdout",
     "output_type": "stream",
     "text": "(_839435:Person {born: 1962, name: 'Tom Cruise'})\n(_839436:Person {name: 'Test02'})\n(_839437:Person {born: 1937, name: 'Jack Nicholson'})\n(_839438:Person {name: 'Test02'})\n(_839439:Person {born: 1962, name: 'Demi Moore'})\n(_839440:Person {born: 1958, name: 'Kevin Bacon'})\n(_839441:Person {born: 1966, name: 'Kiefer Sutherland'})\n(_839442:Person {born: 1971, name: 'Noah Wyle'})\n(_839443:Person {born: 1968, name: 'Cuba Gooding Jr.'})\n(_839444:Person {born: 1957, name: 'Kevin Pollak'})\n(_839445:Person {born: 1943, name: 'J.T. Walsh'})\n(_839446:Person {born: 1967, name: 'James Marshall'})\n(_839447:Person {born: 1948, name: 'Christopher Guest'})\n(_839448:Person {born: 1947, name: 'Rob Reiner'})\n(_839449:Person {born: 1961, name: 'Aaron Sorkin'})\n(_839451:Person {born: 1957, name: 'Kelly McGillis'})\n(_839452:Person {born: 1959, name: 'Val Kilmer'})\n(_839453:Person {born: 1962, name: 'Anthony Edwards'})\n(_839454:Person {name: 'Test01'})\n(_839456:Person {name: 'Test01'})\n"
    }
   ],
   "source": [
    "for node in match_all_person:\n",
    "    print(node)"
   ]
  },
  {
   "cell_type": "code",
   "execution_count": 34,
   "metadata": {},
   "outputs": [
    {
     "name": "stdout",
     "output_type": "stream",
     "text": "(_839449:Person {born: 1961, name: 'Aaron Sorkin'})\n<class 'py2neo.data.Node'>\n(_839453:Person {born: 1962, name: 'Anthony Edwards'})\n<class 'py2neo.data.Node'>\n(_839471:Person {born: 1940, name: 'Al Pacino'})\n<class 'py2neo.data.Node'>\n(_839498:Person {born: 1960, name: 'Annabella Sciorra'})\n<class 'py2neo.data.Node'>\n(_839554:Person {born: 1976, name: 'Audrey Tautou'})\n<class 'py2neo.data.Node'>\n(_839609:Person {name: 'Angela Scope'})\n<class 'py2neo.data.Node'>\n(_839612:Person {age: 33, name: 'Alice'})\n<class 'py2neo.data.Node'>\n(_839633:Person {age: 21, location: 'Ottawa', name: 'Amy'})\n<class 'py2neo.data.Node'>\n(_839635:Person {age: 21, location: 'Ottawa', name: 'Amy'})\n<class 'py2neo.data.Node'>\n(_839637:Person {age: 21, location: 'Ottawa', name: 'Amy'})\n<class 'py2neo.data.Node'>\n(_839639:Person {age: 21, location: 'Ottawa', name: 'Amy'})\n<class 'py2neo.data.Node'>\n(_839641:Person {age: 21, location: 'Ottawa', name: 'Amy'})\n<class 'py2neo.data.Node'>\n(_839643:Person {age: 21, location: 'Ottawa', name: 'Amy'})\n<class 'py2neo.data.Node'>\ndone~\n"
    }
   ],
   "source": [
    "graph_find = matcher.match(\"Person\",name__startswith=\"A\")\n",
    "for node in graph_find:\n",
    "    print(node)\n",
    "    print(type(node))\n",
    "print('done~')"
   ]
  },
  {
   "cell_type": "code",
   "execution_count": 35,
   "metadata": {},
   "outputs": [
    {
     "data": {
      "text/plain": "13"
     },
     "execution_count": 35,
     "metadata": {},
     "output_type": "execute_result"
    }
   ],
   "source": [
    "len(matcher.match(\"Person\").where(\"_.name =~ 'A.*'\"))"
   ]
  },
  {
   "cell_type": "code",
   "execution_count": 36,
   "metadata": {},
   "outputs": [
    {
     "name": "stdout",
     "output_type": "stream",
     "text": "(_839483:Person {born: 1961, name: 'Bonnie Hunt'})\n(_839516:Person {born: 1953, name: 'Bill Pullman'})\n(_839523:Person {born: 1948, name: 'Billy Crystal'})\n(_839525:Person {born: 1949, name: 'Bruno Kirby'})\n(_839529:Person {born: 1970, name: 'Brooke Langton'})\n"
    }
   ],
   "source": [
    "match_b = matcher.match(\"Person\").where(\"_.name =~ 'B.*'\").limit(5)\n",
    "for item in match_b:\n",
    "    print(item)"
   ]
  },
  {
   "cell_type": "code",
   "execution_count": 37,
   "metadata": {},
   "outputs": [
    {
     "data": {
      "text/plain": "<py2neo.matching.RelationshipMatcher at 0x7f41d49785f8>"
     },
     "execution_count": 37,
     "metadata": {},
     "output_type": "execute_result"
    }
   ],
   "source": [
    "from py2neo import matching\n",
    "relation_match = matching.RelationshipMatcher(graph)\n",
    "relation_match"
   ]
  },
  {
   "cell_type": "code",
   "execution_count": 6,
   "metadata": {},
   "outputs": [],
   "source": [
    "import json"
   ]
  },
  {
   "cell_type": "code",
   "execution_count": 39,
   "metadata": {},
   "outputs": [
    {
     "ename": "AttributeError",
     "evalue": "'RelationshipMatcher' object has no attribute 'where'",
     "output_type": "error",
     "traceback": [
      "\u001b[0;31m---------------------------------------------------------------------------\u001b[0m",
      "\u001b[0;31mAttributeError\u001b[0m                            Traceback (most recent call last)",
      "\u001b[0;32m<ipython-input-39-cea8a7bfeeb2>\u001b[0m in \u001b[0;36m<module>\u001b[0;34m\u001b[0m\n\u001b[0;32m----> 1\u001b[0;31m \u001b[0mrela_match\u001b[0m \u001b[0;34m=\u001b[0m \u001b[0mrelation_match\u001b[0m\u001b[0;34m.\u001b[0m\u001b[0mwhere\u001b[0m\u001b[0;34m(\u001b[0m\u001b[0;34m\"_.name =~ 'B.*'\"\u001b[0m\u001b[0;34m)\u001b[0m\u001b[0;34m\u001b[0m\u001b[0;34m\u001b[0m\u001b[0m\n\u001b[0m\u001b[1;32m      2\u001b[0m \u001b[0mprint\u001b[0m\u001b[0;34m(\u001b[0m\u001b[0mrela_match\u001b[0m\u001b[0;34m)\u001b[0m\u001b[0;34m\u001b[0m\u001b[0;34m\u001b[0m\u001b[0m\n",
      "\u001b[0;31mAttributeError\u001b[0m: 'RelationshipMatcher' object has no attribute 'where'"
     ]
    }
   ],
   "source": [
    "rela_match = relation_match.where(\"_.name =~ 'B.*'\")\n",
    "print(rela_match)"
   ]
  },
  {
   "cell_type": "code",
   "execution_count": 40,
   "metadata": {},
   "outputs": [
    {
     "ename": "ValueError",
     "evalue": "dictionary update sequence element #5 has length 1; 2 is required",
     "output_type": "error",
     "traceback": [
      "\u001b[0;31m---------------------------------------------------------------------------\u001b[0m",
      "\u001b[0;31mValueError\u001b[0m                                Traceback (most recent call last)",
      "\u001b[0;32m<ipython-input-40-83ed036ee642>\u001b[0m in \u001b[0;36m<module>\u001b[0;34m\u001b[0m\n\u001b[1;32m      1\u001b[0m \u001b[0;32mwith\u001b[0m \u001b[0mopen\u001b[0m\u001b[0;34m(\u001b[0m\u001b[0;34m'test.json'\u001b[0m\u001b[0;34m,\u001b[0m\u001b[0;34m'w'\u001b[0m\u001b[0;34m)\u001b[0m \u001b[0;32mas\u001b[0m \u001b[0moutfile\u001b[0m\u001b[0;34m:\u001b[0m\u001b[0;34m\u001b[0m\u001b[0;34m\u001b[0m\u001b[0m\n\u001b[0;32m----> 2\u001b[0;31m     \u001b[0mjson\u001b[0m\u001b[0;34m.\u001b[0m\u001b[0mdump\u001b[0m\u001b[0;34m(\u001b[0m\u001b[0mdict\u001b[0m\u001b[0;34m(\u001b[0m\u001b[0mgraph_find\u001b[0m\u001b[0;34m)\u001b[0m\u001b[0;34m,\u001b[0m\u001b[0moutfile\u001b[0m\u001b[0;34m)\u001b[0m\u001b[0;34m\u001b[0m\u001b[0;34m\u001b[0m\u001b[0m\n\u001b[0m\u001b[1;32m      3\u001b[0m \u001b[0mprint\u001b[0m\u001b[0;34m(\u001b[0m\u001b[0;34m'done~~'\u001b[0m\u001b[0;34m)\u001b[0m\u001b[0;34m\u001b[0m\u001b[0;34m\u001b[0m\u001b[0m\n",
      "\u001b[0;31mValueError\u001b[0m: dictionary update sequence element #5 has length 1; 2 is required"
     ]
    }
   ],
   "source": [
    "with open('test.json','w') as outfile:\n",
    "    json.dump(dict(graph_find),outfile)\n",
    "print('done~~')"
   ]
  },
  {
   "cell_type": "code",
   "execution_count": null,
   "metadata": {},
   "outputs": [],
   "source": []
  },
  {
   "cell_type": "code",
   "execution_count": 41,
   "metadata": {},
   "outputs": [
    {
     "ename": "AttributeError",
     "evalue": "'Graph' object has no attribute 'find_one'",
     "output_type": "error",
     "traceback": [
      "\u001b[0;31m---------------------------------------------------------------------------\u001b[0m",
      "\u001b[0;31mAttributeError\u001b[0m                            Traceback (most recent call last)",
      "\u001b[0;32m<ipython-input-41-cf83415e7b7b>\u001b[0m in \u001b[0;36m<module>\u001b[0;34m\u001b[0m\n\u001b[0;32m----> 1\u001b[0;31m graph.find_one(\n\u001b[0m\u001b[1;32m      2\u001b[0m   \u001b[0mlabel\u001b[0m\u001b[0;34m=\u001b[0m\u001b[0;34m\"Person\"\u001b[0m\u001b[0;34m,\u001b[0m\u001b[0;34m\u001b[0m\u001b[0;34m\u001b[0m\u001b[0m\n\u001b[1;32m      3\u001b[0m   \u001b[0mproperty_key\u001b[0m\u001b[0;34m=\u001b[0m\u001b[0;34m\"name\"\u001b[0m\u001b[0;34m,\u001b[0m\u001b[0;34m\u001b[0m\u001b[0;34m\u001b[0m\u001b[0m\n\u001b[1;32m      4\u001b[0m   \u001b[0mproperty_value\u001b[0m\u001b[0;34m=\u001b[0m\u001b[0;34m\"Bob\"\u001b[0m\u001b[0;34m\u001b[0m\u001b[0;34m\u001b[0m\u001b[0m\n\u001b[1;32m      5\u001b[0m )\n",
      "\u001b[0;31mAttributeError\u001b[0m: 'Graph' object has no attribute 'find_one'"
     ]
    }
   ],
   "source": [
    "graph.find_one(\n",
    "  label=\"Person\",\n",
    "  property_key=\"name\",\n",
    "  property_value=\"Bob\"\n",
    ")"
   ]
  },
  {
   "cell_type": "code",
   "execution_count": 2,
   "metadata": {},
   "outputs": [],
   "source": [
    "from py2neo.ogm import GraphObject, RelatedFrom, RelatedTo"
   ]
  },
  {
   "cell_type": "code",
   "execution_count": 3,
   "metadata": {},
   "outputs": [],
   "source": [
    "from py2neo.ogm import Property"
   ]
  },
  {
   "cell_type": "code",
   "execution_count": 4,
   "metadata": {},
   "outputs": [],
   "source": [
    "class Movie(GraphObject):\n",
    "    __primarykey__ = \"title\"\n",
    "\n",
    "    title = Property()\n",
    "    tag_line = Property(\"tagline\")\n",
    "    released = Property()\n",
    "\n",
    "    actors = RelatedFrom(\"Person\", \"ACTED_IN\")\n",
    "    directors = RelatedFrom(\"Person\", \"DIRECTED\")\n",
    "    producers = RelatedFrom(\"Person\", \"PRODUCED\")\n",
    "\n",
    "class Person(GraphObject):\n",
    "    name = Property()\n",
    "    born = Property()\n",
    "\n",
    "    acted_in = RelatedTo(Movie)\n",
    "    directed = RelatedTo(Movie)\n",
    "    produced = RelatedTo(Movie)"
   ]
  },
  {
   "cell_type": "code",
   "execution_count": 10,
   "metadata": {},
   "outputs": [
    {
     "data": {
      "text/plain": "{'name:Demi Moore', 'name:Jack Nicholson', 'name:Test02', 'name:Tom Cruise'}"
     },
     "execution_count": 10,
     "metadata": {},
     "output_type": "execute_result"
    }
   ],
   "source": [
    "{(\"name:\"+a.name) for a in Person.match(graph).limit(5)}"
   ]
  },
  {
   "cell_type": "code",
   "execution_count": 11,
   "metadata": {},
   "outputs": [
    {
     "name": "stdout",
     "output_type": "stream",
     "text": "[('I feel the need, the need for speed.', 1986, 'Top Gun', 'Top Gun')]\n"
    }
   ],
   "source": [
    "top10 = [(a.tag_line, a.released, a.title, a.__primaryvalue__) for a in Movie.match(graph,primary_value=\"Top Gun\").limit(10)]\n",
    "print(top10)"
   ]
  },
  {
   "cell_type": "code",
   "execution_count": 12,
   "metadata": {},
   "outputs": [
    {
     "name": "stdout",
     "output_type": "stream",
     "text": "done~~\n"
    }
   ],
   "source": [
    "with open('test.json','w') as outfile:\n",
    "    json.dump(top10,outfile)\n",
    "print('done~~')"
   ]
  },
  {
   "cell_type": "code",
   "execution_count": 13,
   "metadata": {},
   "outputs": [
    {
     "name": "stdout",
     "output_type": "stream",
     "text": "<py2neo.ogm.MovieMatch object at 0x7f17d1ad95c0>\n"
    }
   ],
   "source": [
    "m01 = Movie.match(graph,primary_value=\"Top Gun\").limit(20)\n",
    "\n",
    "print(m01)"
   ]
  },
  {
   "cell_type": "code",
   "execution_count": 14,
   "metadata": {},
   "outputs": [
    {
     "name": "stdout",
     "output_type": "stream",
     "text": "<Person __id__=839435>\nTom Cruise\n1962\n"
    }
   ],
   "source": [
    "person = Person.match(graph).where(born=1962).first()\n",
    "print(person)\n",
    "print(person.name)\n",
    "print(person.born)"
   ]
  },
  {
   "cell_type": "code",
   "execution_count": 51,
   "metadata": {},
   "outputs": [
    {
     "name": "stdout",
     "output_type": "stream",
     "text": "A Few Good Men\nTop Gun\nJerry Maguire\n"
    }
   ],
   "source": [
    "for act in person.acted_in:\n",
    "    print(act.title)"
   ]
  },
  {
   "cell_type": "code",
   "execution_count": 15,
   "metadata": {},
   "outputs": [
    {
     "name": "stdout",
     "output_type": "stream",
     "text": "Tom Cruise\n---A Few Good Men\n---Top Gun\n---Jerry Maguire\nDemi Moore\n---A Few Good Men\nAnthony Edwards\n---Top Gun\nKelly Preston\n---Jerry Maguire\nRosie O'Donnell\n---A League of Their Own\n---Sleepless in Seattle\n"
    }
   ],
   "source": [
    "person2 = Person.match(graph).where(born=1962)\n",
    "for per in person2:\n",
    "    print(per.name)\n",
    "    for act in per.acted_in:\n",
    "        print('---'+act.title)"
   ]
  },
  {
   "cell_type": "code",
   "execution_count": 16,
   "metadata": {},
   "outputs": [
    {
     "name": "stdout",
     "output_type": "stream",
     "text": "Kevin Bacon\nKiefer Sutherland\nKevin Pollak\nKelly McGillis\nKeanu Reeves\nKelly Preston\n"
    }
   ],
   "source": [
    "person_list = list(Person.match(graph).where(\"_.name =~ 'K.*'\"))\n",
    "for item in person_list:\n",
    "    print(item.name)"
   ]
  },
  {
   "cell_type": "code",
   "execution_count": 17,
   "metadata": {},
   "outputs": [
    {
     "name": "stdout",
     "output_type": "stream",
     "text": "<Person __id__=None>\nAlice Smith\n1996\n"
    }
   ],
   "source": [
    "alice = Person()\n",
    "alice.name = \"Alice Smith\"\n",
    "alice.born = 1996\n",
    "print(alice)\n",
    "print(alice.name)\n",
    "print(alice.born)"
   ]
  },
  {
   "cell_type": "markdown",
   "execution_count": null,
   "metadata": {},
   "outputs": [],
   "source": [
    "### One example:\n",
    "<id>:\n",
    "493841\n",
    "countries:\n",
    "China\n",
    "country_codes:\n",
    "CHN\n",
    "icij_id:\n",
    "58287E0FD37852000D9D5AB8B27A2581\n",
    "name:\n",
    "Tian Yuan\n",
    "node_id:\n",
    "12000002\n",
    "sourceID:\n",
    "Panama Papers\n",
    "valid_until:\n",
    "The Panama Papers data is current through 2015\n",
    "### relationship:\n",
    "registered_address\n",
    "shareholder_of\n",
    "intermediary_of"
   ]
  },
  {
   "cell_type": "code",
   "execution_count": 66,
   "metadata": {},
   "outputs": [],
   "source": [
    "class Officer(GraphObject):\n",
    "    name = Property()\n",
    "    node_id = Property()\n",
    "    countries = Property()\n",
    "\n",
    "    # registered_address = RelatedTo(Address)\n",
    "    officer_of = RelatedTo(\"Entity\")\n",
    "    shareholder_of = RelatedTo(\"Entity\")\n",
    "    director_of = RelatedTo(\"Entity\")\n",
    "    # intermediary_of = RelatedTo()\n",
    "\n",
    "class Entity(GraphObject):\n",
    "    name = Property()\n",
    "    node_id = Property()\n",
    "    \n",
    "    officers = RelatedFrom(\"Officer\",\"OFFICER_OF\")\n",
    "    shareholders = RelatedFrom(\"Officer\",\"SHAREHOLDER_OF\")\n",
    "    directors = RelatedFrom(\"Officer\",\"DIRECTOR_OF\")\n"
   ]
  },
  {
   "cell_type": "code",
   "execution_count": 67,
   "metadata": {},
   "outputs": [
    {
     "name": "stdout",
     "output_type": "stream",
     "text": "HO THUY NGA\n(_493844:Officer {countries: 'Viet Nam', country_codes: 'VNM', icij_id: '06A0FC92656D09F63D966FE7BD076A45', name: 'HO THUY NGA', node_id: '12000005', sourceID: 'Panama Papers', valid_until: 'The Panama Papers data is current through 2015'})\n"
    }
   ],
   "source": [
    "tian = Officer.match(graph).where(name=\"HO THUY NGA\").first()\n",
    "print(tian.name)\n",
    "print(tian.__node__)"
   ]
  },
  {
   "cell_type": "code",
   "execution_count": 68,
   "metadata": {},
   "outputs": [
    {
     "name": "stdout",
     "output_type": "stream",
     "text": "<class 'py2neo.ogm.OfficerMatch'>\n"
    },
    {
     "data": {
      "text/plain": "{'name:GREGORY JOHN SOLOMON',\n 'name:HO THUY NGA',\n 'name:KIM SOO IN',\n 'name:MATSUDA MASUMI',\n 'name:Tian Yuan'}"
     },
     "execution_count": 68,
     "metadata": {},
     "output_type": "execute_result"
    }
   ],
   "source": [
    "test_node = Officer.match(graph,\"Tian Yuan\")\n",
    "print(type(test_node))\n",
    "for node in test_node:\n",
    "    print(type(node))\n",
    "{(\"name:\"+a.name) for a in Officer.match(graph).limit(5)}"
   ]
  },
  {
   "cell_type": "markdown",
   "execution_count": null,
   "metadata": {},
   "outputs": [],
   "source": [
    "\"elements\": {\n",
    "        \"nodes\": [\n",
    "          {\"data\": {\"id\": \"172\", \"name\": \"Tom Cruise\", \"label\": \"Person\"}},\n",
    "          {\"data\": {\"id\": \"183\", \"title\": \"Top Gun\", \"label\": \"Movie\"}}\n",
    "        ],\n",
    "        \"edges\": [{\"data\": {\"source\": \"172\", \"target\": \"183\", \"relationship\": \"Acted_In\"}}]\n",
    "      }"
   ]
  },
  {
   "cell_type": "code",
   "execution_count": 69,
   "metadata": {},
   "outputs": [
    {
     "name": "stdout",
     "output_type": "stream",
     "text": "Tian Yuan\nChina\n12000002\n<class 'py2neo.ogm.RelatedObjects'>\nCELLO HOLDINGS LIMITED\n10148386\n0\n1\n"
    }
   ],
   "source": [
    "the_dict = {\"elements\":{\"nodes\":[],\"edges\":[]}, \"style\":{}, \"layout\":{ \"name\": \"grid\"}}\n",
    "node_out = Officer.match(graph).where(name=\"Tian Yuan\").first()\n",
    "print(node_out.name)\n",
    "print(node_out.countries)\n",
    "print(node_out.node_id)\n",
    "print(type(node_out.shareholder_of))\n",
    "for x in node_out.shareholder_of:\n",
    "    print(x.name)\n",
    "    print(x.node_id)\n",
    "print(len(node_out.officer_of))\n",
    "print(len(node_out.shareholder_of))"
   ]
  },
  {
   "cell_type": "code",
   "execution_count": 71,
   "metadata": {},
   "outputs": [
    {
     "name": "stdout",
     "output_type": "stream",
     "text": "[{'data': {'node_id': '12000002', 'name': 'Tian Yuan', 'country': 'China'}}, {'data': {'node_id': '10148386', 'name': 'CELLO HOLDINGS LIMITED'}}]\n[{'data': {'source': '12000002', 'target': '10148386', 'relationship': 'OFFICER_OF'}}]\n{'elements': {'nodes': [{'data': {'node_id': '12000002', 'name': 'Tian Yuan', 'country': 'China'}}, {'data': {'node_id': '10148386', 'name': 'CELLO HOLDINGS LIMITED'}}], 'edges': [{'data': {'source': '12000002', 'target': '10148386', 'relationship': 'OFFICER_OF'}}]}, 'style': {}, 'layout': {'name': 'grid'}}\n"
    },
    {
     "data": {
      "text/plain": "'{\"elements\": {\"nodes\": [{\"data\": {\"node_id\": \"12000002\", \"name\": \"Tian Yuan\", \"country\": \"China\"}}, {\"data\": {\"node_id\": \"10148386\", \"name\": \"CELLO HOLDINGS LIMITED\"}}], \"edges\": [{\"data\": {\"source\": \"12000002\", \"target\": \"10148386\", \"relationship\": \"OFFICER_OF\"}}]}, \"style\": {}, \"layout\": {\"name\": \"grid\"}}'"
     },
     "execution_count": 71,
     "metadata": {},
     "output_type": "execute_result"
    }
   ],
   "source": [
    "# the_dict[\"elements\"][\"nodes\"]\n",
    "node_list = []\n",
    "edge_list = []\n",
    "node_list.append({\"data\":{\"node_id\":node_out.node_id,\"name\":node_out.name,\"country\":node_out.countries}})\n",
    "\n",
    "for x in node_out.shareholder_of:\n",
    "    node_list.append({\"data\":{\"node_id\":x.node_id,\"name\":x.name}})\n",
    "    edge_list.append({\"data\":{\"source\":node_out.node_id,\"target\":x.node_id,\"relationship\":\"OFFICER_OF\"}})\n",
    "print(node_list)\n",
    "print(edge_list)\n",
    "the_dict[\"elements\"][\"nodes\"] = node_list\n",
    "the_dict[\"elements\"][\"edges\"] = edge_list\n",
    "\n",
    "print(the_dict)\n",
    "json.dumps(the_dict)\n",
    "with open('test_json.json','w') as json_file:\n",
    "    json.dump(the_dict,json_file)\n",
    "print('write the data to test_json.json.')"
   ]
  },
  {
   "cell_type": "code",
   "execution_count": 32,
   "metadata": {},
   "outputs": [
    {
     "name": "stdout",
     "output_type": "stream",
     "text": "Thierry Fernand Martino\n<class '__main__.Officer'>\n---Always Rock Ltd.\nThierry Mooij\n<class '__main__.Officer'>\n---JESS MARKETING SERVICES LLC\nThierry LEVERRIER\n<class '__main__.Officer'>\n---IRVINE PORTFOLIO S.A.\nThierry Semichon-Hobaïca\n<class '__main__.Officer'>\n---ANDSELL S.A.\nThierry ISAIA\n<class '__main__.Officer'>\n---ALPHA GLOBAL INDUSTRIES LTD.\n"
    }
   ],
   "source": [
    "a_all = Officer.match(graph).where(\"_.name =~ 'Thierry.*'\").limit(5)\n",
    "for a in a_all:\n",
    "    print(a.name)\n",
    "    print(type(a))\n",
    "    for share_of in a.shareholder_of:\n",
    "        print('---' + share_of.name)"
   ]
  },
  {
   "cell_type": "code",
   "execution_count": null,
   "metadata": {},
   "outputs": [],
   "source": []
  },
  {
   "cell_type": "code",
   "execution_count": 80,
   "metadata": {},
   "outputs": [
    {
     "name": "stdout",
     "output_type": "stream",
     "text": "CELLO HOLDINGS LIMITED\n"
    }
   ],
   "source": [
    "for share_of in tian.shareholder_of:\n",
    "    print(officer_of.name)\n"
   ]
  }
 ]
}