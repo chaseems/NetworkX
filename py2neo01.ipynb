{
 "nbformat": 4,
 "nbformat_minor": 2,
 "metadata": {
  "language_info": {
   "name": "python",
   "codemirror_mode": {
    "name": "ipython",
    "version": 3
   },
   "version": "3.6.9"
  },
  "orig_nbformat": 2,
  "file_extension": ".py",
  "mimetype": "text/x-python",
  "name": "python",
  "npconvert_exporter": "python",
  "pygments_lexer": "ipython3",
  "version": 3
 },
 "cells": [
  {
   "cell_type": "code",
   "execution_count": 1,
   "metadata": {},
   "outputs": [],
   "source": [
    "from py2neo import Node, Relationship"
   ]
  },
  {
   "cell_type": "code",
   "execution_count": 2,
   "metadata": {},
   "outputs": [
    {
     "data": {
      "text/plain": "(Alice)-[:KNOWS {}]->(Bob)"
     },
     "execution_count": 2,
     "metadata": {},
     "output_type": "execute_result"
    }
   ],
   "source": [
    "a = Node(\"Person\", name=\"Alice\")\n",
    "b = Node(\"Person\", name=\"Bob\")\n",
    "ab = Relationship(a, \"KNOWS\", b)\n",
    "ab"
   ]
  },
  {
   "cell_type": "code",
   "execution_count": 4,
   "metadata": {},
   "outputs": [
    {
     "name": "stdout",
     "output_type": "stream",
     "text": "a:  (:Person {age: 20, name: 'Alice'}) b:  (:Person {age: 21, name: 'Bob'}) ab:  (Alice)-[:KNOWS {time: '2019/12/02'}]->(Bob)\n"
    }
   ],
   "source": [
    "a['age'] = 20\n",
    "b['age'] = 21\n",
    "ab['time'] = '2019/12/02'\n",
    "print('a: ',a,'b: ',b,'ab: ',ab)"
   ]
  },
  {
   "cell_type": "code",
   "execution_count": 5,
   "metadata": {},
   "outputs": [
    {
     "name": "stdout",
     "output_type": "stream",
     "text": "(:Person {age: 20, location: 'Ottawa', name: 'Alice'})\n"
    }
   ],
   "source": [
    "a.setdefault('location','Ottawa')\n",
    "print(a)"
   ]
  },
  {
   "cell_type": "code",
   "execution_count": 6,
   "metadata": {},
   "outputs": [
    {
     "name": "stdout",
     "output_type": "stream",
     "text": "(:Person {age: 21, location: 'Ottawa', name: 'Amy'})\n"
    }
   ],
   "source": [
    "data = {\n",
    "    'name': 'Amy',\n",
    "    'age': 21\n",
    "}\n",
    "a.update(data)\n",
    "print(a)"
   ]
  },
  {
   "cell_type": "code",
   "execution_count": 7,
   "metadata": {},
   "outputs": [
    {
     "data": {
      "text/plain": "{'name': 'Amy', 'age': 21, 'location': 'Ottawa'}"
     },
     "execution_count": 7,
     "metadata": {},
     "output_type": "execute_result"
    }
   ],
   "source": [
    "dict(a)"
   ]
  },
  {
   "cell_type": "code",
   "execution_count": 8,
   "metadata": {},
   "outputs": [
    {
     "data": {
      "text/plain": "140580482880704"
     },
     "execution_count": 8,
     "metadata": {},
     "output_type": "execute_result"
    }
   ],
   "source": [
    "hash(a)"
   ]
  },
  {
   "cell_type": "code",
   "execution_count": 9,
   "metadata": {},
   "outputs": [
    {
     "data": {
      "text/plain": "3"
     },
     "execution_count": 9,
     "metadata": {},
     "output_type": "execute_result"
    }
   ],
   "source": [
    "len(a)"
   ]
  },
  {
   "cell_type": "code",
   "execution_count": 10,
   "metadata": {},
   "outputs": [
    {
     "data": {
      "text/plain": "<py2neo.data.Subgraph at 0x7fdb71bc5898>"
     },
     "execution_count": 10,
     "metadata": {},
     "output_type": "execute_result"
    }
   ],
   "source": [
    "s = a | b | ab\n",
    "s"
   ]
  },
  {
   "cell_type": "code",
   "execution_count": 12,
   "metadata": {},
   "outputs": [
    {
     "name": "stdout",
     "output_type": "stream",
     "text": "<py2neo.data.Subgraph object at 0x7fdb71b9c5c0>\n"
    }
   ],
   "source": [
    "s2 = a | b\n",
    "print(s2)"
   ]
  },
  {
   "cell_type": "code",
   "execution_count": 13,
   "metadata": {},
   "outputs": [
    {
     "data": {
      "text/plain": "<py2neo.data.Subgraph at 0x7fdb711c35c0>"
     },
     "execution_count": 13,
     "metadata": {},
     "output_type": "execute_result"
    }
   ],
   "source": [
    "s_all = s | s2\n",
    "s_all"
   ]
  },
  {
   "cell_type": "code",
   "execution_count": 19,
   "metadata": {},
   "outputs": [
    {
     "data": {
      "text/plain": "<generator object walk at 0x7fdb6f030990>"
     },
     "execution_count": 19,
     "metadata": {},
     "output_type": "execute_result"
    }
   ],
   "source": [
    "s_all_walk = walk(s_all)\n",
    "s_all_walk"
   ]
  },
  {
   "cell_type": "code",
   "execution_count": 20,
   "metadata": {},
   "outputs": [],
   "source": [
    "c = Node('Person', name='Mike')\n",
    "ac = Relationship(a, \"KNOWS\", c)\n",
    "w = ab + Relationship(b, \"LIKES\", c) + ac\n"
   ]
  },
  {
   "cell_type": "code",
   "execution_count": 17,
   "metadata": {},
   "outputs": [
    {
     "name": "stdout",
     "output_type": "stream",
     "text": "(:Person {age: 21, location: 'Ottawa', name: 'Amy'})\n(Amy)-[:KNOWS {time: '2019/12/02'}]->(Bob)\n(:Person {age: 21, name: 'Bob'})\n(Bob)-[:LIKES {}]->(Mike)\n(:Person {name: 'Mike'})\n(Amy)-[:KNOWS {}]->(Mike)\n(:Person {age: 21, location: 'Ottawa', name: 'Amy'})\n"
    }
   ],
   "source": [
    "from py2neo import walk\n",
    "for item in walk(w):\n",
    "    print(item)"
   ]
  },
  {
   "cell_type": "code",
   "execution_count": 25,
   "metadata": {},
   "outputs": [
    {
     "ename": "TypeError",
     "evalue": "'SetView' object is not callable",
     "output_type": "error",
     "traceback": [
      "\u001b[0;31m---------------------------------------------------------------------------\u001b[0m",
      "\u001b[0;31mTypeError\u001b[0m                                 Traceback (most recent call last)",
      "\u001b[0;32m<ipython-input-25-b5a422ed351d>\u001b[0m in \u001b[0;36m<module>\u001b[0;34m\u001b[0m\n\u001b[0;32m----> 1\u001b[0;31m \u001b[0mprint\u001b[0m\u001b[0;34m(\u001b[0m\u001b[0ms_all\u001b[0m\u001b[0;34m.\u001b[0m\u001b[0mnodes\u001b[0m\u001b[0;34m(\u001b[0m\u001b[0;34m)\u001b[0m\u001b[0;34m)\u001b[0m\u001b[0;34m\u001b[0m\u001b[0;34m\u001b[0m\u001b[0m\n\u001b[0m",
      "\u001b[0;31mTypeError\u001b[0m: 'SetView' object is not callable"
     ]
    }
   ],
   "source": [
    "print(s_all.nodes())"
   ]
  },
  {
   "cell_type": "code",
   "execution_count": 22,
   "metadata": {},
   "outputs": [
    {
     "name": "stdout",
     "output_type": "stream",
     "text": "done~\n"
    }
   ],
   "source": [
    "from py2neo import Graph\n",
    "test_graph = Graph()\n",
    "print('done~')"
   ]
  },
  {
   "cell_type": "code",
   "execution_count": 28,
   "metadata": {},
   "outputs": [
    {
     "name": "stdout",
     "output_type": "stream",
     "text": "{'name': 'Amy', 'age': 21, 'location': 'Ottawa'}\n{'time': '2019/12/02'}\n{'name': 'Bob', 'age': 21}\n{}\n{'name': 'Mike'}\n{}\n{'name': 'Amy', 'age': 21, 'location': 'Ottawa'}\n"
    }
   ],
   "source": [
    "for item in walk(w):\n",
    "    print(dict(item))"
   ]
  },
  {
   "cell_type": "code",
   "execution_count": 23,
   "metadata": {},
   "outputs": [],
   "source": [
    "graph = Graph(password='aaduser')\n",
    "graph.create(s)"
   ]
  },
  {
   "cell_type": "code",
   "execution_count": 24,
   "metadata": {},
   "outputs": [
    {
     "data": {
      "text/plain": "True"
     },
     "execution_count": 24,
     "metadata": {},
     "output_type": "execute_result"
    }
   ],
   "source": [
    "graph.exists(b)"
   ]
  },
  {
   "cell_type": "code",
   "execution_count": 25,
   "metadata": {},
   "outputs": [
    {
     "data": {
      "text/plain": "(_838485:Officer {countries: 'Taiwan', country_codes: 'TWN', name: 'NIU, Fu-Tsang', node_id: '71202', sourceID: 'Offshore Leaks', valid_until: 'The Offshore Leaks data is current through 2010'})"
     },
     "execution_count": 25,
     "metadata": {},
     "output_type": "execute_result"
    }
   ],
   "source": [
    "len(graph.nodes)\n",
    "graph.nodes[838485]"
   ]
  },
  {
   "cell_type": "code",
   "execution_count": 27,
   "metadata": {},
   "outputs": [
    {
     "data": {
      "text/plain": "<py2neo.matching.RelationshipMatch at 0x7fdb6fd0e588>"
     },
     "execution_count": 27,
     "metadata": {},
     "output_type": "execute_result"
    }
   ],
   "source": [
    "match1 = graph.match(\"match (a:Person {name:'Bob'}) return a\")\n",
    "match1"
   ]
  },
  {
   "cell_type": "code",
   "execution_count": 28,
   "metadata": {},
   "outputs": [
    {
     "data": {
      "text/plain": "(_839613:Person {age: 44, name: 'Bob'})"
     },
     "execution_count": 28,
     "metadata": {},
     "output_type": "execute_result"
    }
   ],
   "source": [
    "from py2neo import NodeMatcher\n",
    "matcher = NodeMatcher(graph)\n",
    "matcher.match(\"Person\",name=\"Bob\").first()"
   ]
  },
  {
   "cell_type": "code",
   "execution_count": 31,
   "metadata": {},
   "outputs": [
    {
     "data": {
      "text/plain": "(_838485:Officer {countries: 'Taiwan', country_codes: 'TWN', name: 'NIU, Fu-Tsang', node_id: '71202', sourceID: 'Offshore Leaks', valid_until: 'The Offshore Leaks data is current through 2010'})"
     },
     "execution_count": 31,
     "metadata": {},
     "output_type": "execute_result"
    }
   ],
   "source": [
    "matcher.match(\"Officer\", name=\"NIU, Fu-Tsang\").first()"
   ]
  },
  {
   "cell_type": "code",
   "execution_count": 32,
   "metadata": {},
   "outputs": [
    {
     "name": "stdout",
     "output_type": "stream",
     "text": "(_839483:Person {born: 1961, name: 'Bonnie Hunt'})\n(_839516:Person {born: 1953, name: 'Bill Pullman'})\n(_839523:Person {born: 1948, name: 'Billy Crystal'})\n(_839525:Person {born: 1949, name: 'Bruno Kirby'})\n(_839529:Person {born: 1970, name: 'Brooke Langton'})\n(_839561:Person {born: 1967, name: 'Ben Miles'})\n(_839587:Person {born: 1955, name: 'Bill Paxton'})\n(_839613:Person {age: 44, name: 'Bob'})\n(_839634:Person {age: 21, name: 'Bob'})\n(_839636:Person {age: 21, name: 'Bob'})\n(_839638:Person {age: 21, name: 'Bob'})\n(_839640:Person {age: 21, name: 'Bob'})\n"
    }
   ],
   "source": [
    "match_name = matcher.match(\"Person\",name__startswith=\"B\")\n",
    "for node in match_name:\n",
    "    print(node)"
   ]
  },
  {
   "cell_type": "code",
   "execution_count": 33,
   "metadata": {},
   "outputs": [],
   "source": [
    "match_all_person = matcher.match(\"Person\").limit(20)"
   ]
  },
  {
   "cell_type": "code",
   "execution_count": 34,
   "metadata": {},
   "outputs": [
    {
     "name": "stdout",
     "output_type": "stream",
     "text": "(_839435:Person {born: 1962, name: 'Tom Cruise'})\n(_839436:Person {name: 'Test02'})\n(_839437:Person {born: 1937, name: 'Jack Nicholson'})\n(_839438:Person {name: 'Test02'})\n(_839439:Person {born: 1962, name: 'Demi Moore'})\n(_839440:Person {born: 1958, name: 'Kevin Bacon'})\n(_839441:Person {born: 1966, name: 'Kiefer Sutherland'})\n(_839442:Person {born: 1971, name: 'Noah Wyle'})\n(_839443:Person {born: 1968, name: 'Cuba Gooding Jr.'})\n(_839444:Person {born: 1957, name: 'Kevin Pollak'})\n(_839445:Person {born: 1943, name: 'J.T. Walsh'})\n(_839446:Person {born: 1967, name: 'James Marshall'})\n(_839447:Person {born: 1948, name: 'Christopher Guest'})\n(_839448:Person {born: 1947, name: 'Rob Reiner'})\n(_839449:Person {born: 1961, name: 'Aaron Sorkin'})\n(_839451:Person {born: 1957, name: 'Kelly McGillis'})\n(_839452:Person {born: 1959, name: 'Val Kilmer'})\n(_839453:Person {born: 1962, name: 'Anthony Edwards'})\n(_839454:Person {name: 'Test01'})\n(_839456:Person {name: 'Test01'})\n"
    }
   ],
   "source": [
    "for node in match_all_person:\n",
    "    print(node)"
   ]
  },
  {
   "cell_type": "code",
   "execution_count": 35,
   "metadata": {},
   "outputs": [
    {
     "name": "stdout",
     "output_type": "stream",
     "text": "(_839449:Person {born: 1961, name: 'Aaron Sorkin'})\n<class 'py2neo.data.Node'>\n(_839453:Person {born: 1962, name: 'Anthony Edwards'})\n<class 'py2neo.data.Node'>\n(_839471:Person {born: 1940, name: 'Al Pacino'})\n<class 'py2neo.data.Node'>\n(_839498:Person {born: 1960, name: 'Annabella Sciorra'})\n<class 'py2neo.data.Node'>\n(_839554:Person {born: 1976, name: 'Audrey Tautou'})\n<class 'py2neo.data.Node'>\n(_839609:Person {name: 'Angela Scope'})\n<class 'py2neo.data.Node'>\n(_839612:Person {age: 33, name: 'Alice'})\n<class 'py2neo.data.Node'>\n(_839633:Person {age: 21, location: 'Ottawa', name: 'Amy'})\n<class 'py2neo.data.Node'>\n(_839635:Person {age: 21, location: 'Ottawa', name: 'Amy'})\n<class 'py2neo.data.Node'>\n(_839637:Person {age: 21, location: 'Ottawa', name: 'Amy'})\n<class 'py2neo.data.Node'>\n(_839639:Person {age: 21, location: 'Ottawa', name: 'Amy'})\n<class 'py2neo.data.Node'>\ndone~\n"
    }
   ],
   "source": [
    "graph_find = matcher.match(\"Person\",name__startswith=\"A\")\n",
    "for node in graph_find:\n",
    "    print(node)\n",
    "    print(type(node))\n",
    "print('done~')"
   ]
  },
  {
   "cell_type": "code",
   "execution_count": 36,
   "metadata": {},
   "outputs": [
    {
     "data": {
      "text/plain": "11"
     },
     "execution_count": 36,
     "metadata": {},
     "output_type": "execute_result"
    }
   ],
   "source": [
    "len(matcher.match(\"Person\").where(\"_.name =~ 'A.*'\"))"
   ]
  },
  {
   "cell_type": "code",
   "execution_count": 37,
   "metadata": {},
   "outputs": [
    {
     "name": "stdout",
     "output_type": "stream",
     "text": "(_839483:Person {born: 1961, name: 'Bonnie Hunt'})\n(_839516:Person {born: 1953, name: 'Bill Pullman'})\n(_839523:Person {born: 1948, name: 'Billy Crystal'})\n(_839525:Person {born: 1949, name: 'Bruno Kirby'})\n(_839529:Person {born: 1970, name: 'Brooke Langton'})\n"
    }
   ],
   "source": [
    "match_b = matcher.match(\"Person\").where(\"_.name =~ 'B.*'\").limit(5)\n",
    "for item in match_b:\n",
    "    print(item)"
   ]
  },
  {
   "cell_type": "code",
   "execution_count": 38,
   "metadata": {},
   "outputs": [
    {
     "data": {
      "text/plain": "<py2neo.matching.RelationshipMatcher at 0x7fdb6de996a0>"
     },
     "execution_count": 38,
     "metadata": {},
     "output_type": "execute_result"
    }
   ],
   "source": [
    "from py2neo import matching\n",
    "relation_match = matching.RelationshipMatcher(graph)\n",
    "relation_match"
   ]
  },
  {
   "cell_type": "code",
   "execution_count": 39,
   "metadata": {},
   "outputs": [],
   "source": [
    "import json"
   ]
  },
  {
   "cell_type": "code",
   "execution_count": 40,
   "metadata": {},
   "outputs": [
    {
     "ename": "AttributeError",
     "evalue": "'RelationshipMatcher' object has no attribute 'where'",
     "output_type": "error",
     "traceback": [
      "\u001b[0;31m---------------------------------------------------------------------------\u001b[0m",
      "\u001b[0;31mAttributeError\u001b[0m                            Traceback (most recent call last)",
      "\u001b[0;32m<ipython-input-40-cea8a7bfeeb2>\u001b[0m in \u001b[0;36m<module>\u001b[0;34m\u001b[0m\n\u001b[0;32m----> 1\u001b[0;31m \u001b[0mrela_match\u001b[0m \u001b[0;34m=\u001b[0m \u001b[0mrelation_match\u001b[0m\u001b[0;34m.\u001b[0m\u001b[0mwhere\u001b[0m\u001b[0;34m(\u001b[0m\u001b[0;34m\"_.name =~ 'B.*'\"\u001b[0m\u001b[0;34m)\u001b[0m\u001b[0;34m\u001b[0m\u001b[0;34m\u001b[0m\u001b[0m\n\u001b[0m\u001b[1;32m      2\u001b[0m \u001b[0mprint\u001b[0m\u001b[0;34m(\u001b[0m\u001b[0mrela_match\u001b[0m\u001b[0;34m)\u001b[0m\u001b[0;34m\u001b[0m\u001b[0;34m\u001b[0m\u001b[0m\n",
      "\u001b[0;31mAttributeError\u001b[0m: 'RelationshipMatcher' object has no attribute 'where'"
     ]
    }
   ],
   "source": [
    "rela_match = relation_match.where(\"_.name =~ 'B.*'\")\n",
    "print(rela_match)"
   ]
  },
  {
   "cell_type": "code",
   "execution_count": 78,
   "metadata": {},
   "outputs": [
    {
     "ename": "ValueError",
     "evalue": "dictionary update sequence element #1 has length 1; 2 is required",
     "output_type": "error",
     "traceback": [
      "\u001b[0;31m---------------------------------------------------------------------------\u001b[0m",
      "\u001b[0;31mValueError\u001b[0m                                Traceback (most recent call last)",
      "\u001b[0;32m<ipython-input-78-83ed036ee642>\u001b[0m in \u001b[0;36m<module>\u001b[0;34m\u001b[0m\n\u001b[1;32m      1\u001b[0m \u001b[0;32mwith\u001b[0m \u001b[0mopen\u001b[0m\u001b[0;34m(\u001b[0m\u001b[0;34m'test.json'\u001b[0m\u001b[0;34m,\u001b[0m\u001b[0;34m'w'\u001b[0m\u001b[0;34m)\u001b[0m \u001b[0;32mas\u001b[0m \u001b[0moutfile\u001b[0m\u001b[0;34m:\u001b[0m\u001b[0;34m\u001b[0m\u001b[0;34m\u001b[0m\u001b[0m\n\u001b[0;32m----> 2\u001b[0;31m     \u001b[0mjson\u001b[0m\u001b[0;34m.\u001b[0m\u001b[0mdump\u001b[0m\u001b[0;34m(\u001b[0m\u001b[0mdict\u001b[0m\u001b[0;34m(\u001b[0m\u001b[0mgraph_find\u001b[0m\u001b[0;34m)\u001b[0m\u001b[0;34m,\u001b[0m\u001b[0moutfile\u001b[0m\u001b[0;34m)\u001b[0m\u001b[0;34m\u001b[0m\u001b[0;34m\u001b[0m\u001b[0m\n\u001b[0m\u001b[1;32m      3\u001b[0m \u001b[0mprint\u001b[0m\u001b[0;34m(\u001b[0m\u001b[0;34m'done~~'\u001b[0m\u001b[0;34m)\u001b[0m\u001b[0;34m\u001b[0m\u001b[0;34m\u001b[0m\u001b[0m\n",
      "\u001b[0;31mValueError\u001b[0m: dictionary update sequence element #1 has length 1; 2 is required"
     ]
    }
   ],
   "source": [
    "with open('test.json','w') as outfile:\n",
    "    json.dump(dict(graph_find),outfile)\n",
    "print('done~~')"
   ]
  },
  {
   "cell_type": "code",
   "execution_count": null,
   "metadata": {},
   "outputs": [],
   "source": []
  },
  {
   "cell_type": "code",
   "execution_count": 72,
   "metadata": {},
   "outputs": [
    {
     "ename": "AttributeError",
     "evalue": "'Graph' object has no attribute 'find_one'",
     "output_type": "error",
     "traceback": [
      "\u001b[0;31m---------------------------------------------------------------------------\u001b[0m",
      "\u001b[0;31mAttributeError\u001b[0m                            Traceback (most recent call last)",
      "\u001b[0;32m<ipython-input-72-cf83415e7b7b>\u001b[0m in \u001b[0;36m<module>\u001b[0;34m\u001b[0m\n\u001b[0;32m----> 1\u001b[0;31m graph.find_one(\n\u001b[0m\u001b[1;32m      2\u001b[0m   \u001b[0mlabel\u001b[0m\u001b[0;34m=\u001b[0m\u001b[0;34m\"Person\"\u001b[0m\u001b[0;34m,\u001b[0m\u001b[0;34m\u001b[0m\u001b[0;34m\u001b[0m\u001b[0m\n\u001b[1;32m      3\u001b[0m   \u001b[0mproperty_key\u001b[0m\u001b[0;34m=\u001b[0m\u001b[0;34m\"name\"\u001b[0m\u001b[0;34m,\u001b[0m\u001b[0;34m\u001b[0m\u001b[0;34m\u001b[0m\u001b[0m\n\u001b[1;32m      4\u001b[0m   \u001b[0mproperty_value\u001b[0m\u001b[0;34m=\u001b[0m\u001b[0;34m\"Bob\"\u001b[0m\u001b[0;34m\u001b[0m\u001b[0;34m\u001b[0m\u001b[0m\n\u001b[1;32m      5\u001b[0m )\n",
      "\u001b[0;31mAttributeError\u001b[0m: 'Graph' object has no attribute 'find_one'"
     ]
    }
   ],
   "source": [
    "graph.find_one(\n",
    "  label=\"Person\",\n",
    "  property_key=\"name\",\n",
    "  property_value=\"Bob\"\n",
    ")"
   ]
  },
  {
   "cell_type": "code",
   "execution_count": 41,
   "metadata": {},
   "outputs": [],
   "source": [
    "from py2neo.ogm import GraphObject, RelatedFrom, RelatedTo"
   ]
  },
  {
   "cell_type": "code",
   "execution_count": 42,
   "metadata": {},
   "outputs": [],
   "source": [
    "from py2neo.ogm import Property"
   ]
  },
  {
   "cell_type": "code",
   "execution_count": 43,
   "metadata": {},
   "outputs": [],
   "source": [
    "class Movie(GraphObject):\n",
    "    __primarykey__ = \"title\"\n",
    "\n",
    "    title = Property()\n",
    "    tag_line = Property(\"tagline\")\n",
    "    released = Property()\n",
    "\n",
    "    actors = RelatedFrom(\"Person\", \"ACTED_IN\")\n",
    "    directors = RelatedFrom(\"Person\", \"DIRECTED\")\n",
    "    producers = RelatedFrom(\"Person\", \"PRODUCED\")\n",
    "\n",
    "class Person(GraphObject):\n",
    "    name = Property()\n",
    "    born = Property()\n",
    "\n",
    "    acted_in = RelatedTo(Movie)\n",
    "    directed = RelatedTo(Movie)\n",
    "    produced = RelatedTo(Movie)"
   ]
  },
  {
   "cell_type": "code",
   "execution_count": 44,
   "metadata": {},
   "outputs": [
    {
     "data": {
      "text/plain": "{('Demi Moore', 1962, 839439),\n ('Jack Nicholson', 1937, 839437),\n ('Test02', None, 839436),\n ('Test02', None, 839438),\n ('Tom Cruise', 1962, 839435)}"
     },
     "execution_count": 44,
     "metadata": {},
     "output_type": "execute_result"
    }
   ],
   "source": [
    "{(\"name\":a.name, \"born\":a.born, \"p_value\":a.__primaryvalue__) for a in Person.match(graph).limit(5)}"
   ]
  },
  {
   "cell_type": "code",
   "execution_count": 86,
   "metadata": {},
   "outputs": [],
   "source": [
    "top10 = [(a.tag_line, a.released, a.title, a.__primaryvalue__) for a in Movie.match(graph,primary_value=\"Top Gun\").limit(10)]"
   ]
  },
  {
   "cell_type": "code",
   "execution_count": 87,
   "metadata": {},
   "outputs": [
    {
     "name": "stdout",
     "output_type": "stream",
     "text": "done~~\n"
    }
   ],
   "source": [
    "with open('test.json','w') as outfile:\n",
    "    json.dump(top10,outfile)\n",
    "print('done~~')"
   ]
  },
  {
   "cell_type": "code",
   "execution_count": 94,
   "metadata": {},
   "outputs": [
    {
     "data": {
      "text/plain": "<py2neo.ogm.MovieMatch at 0x7fc645e2cef0>"
     },
     "execution_count": 94,
     "metadata": {},
     "output_type": "execute_result"
    }
   ],
   "source": [
    "Movie.match(graph,primary_value=\"Top Gun\")"
   ]
  },
  {
   "cell_type": "code",
   "execution_count": 97,
   "metadata": {},
   "outputs": [
    {
     "name": "stdout",
     "output_type": "stream",
     "text": "<Person __id__=839435>\nTom Cruise\n1962\n"
    }
   ],
   "source": [
    "person = Person.match(graph).where(born=1962).first()\n",
    "print(person)\n",
    "print(person.name)\n",
    "print(person.born)"
   ]
  },
  {
   "cell_type": "code",
   "execution_count": 98,
   "metadata": {},
   "outputs": [
    {
     "data": {
      "text/plain": "__main__.Person"
     },
     "execution_count": 98,
     "metadata": {},
     "output_type": "execute_result"
    }
   ],
   "source": [
    "type(person)"
   ]
  },
  {
   "cell_type": "code",
   "execution_count": null,
   "metadata": {},
   "outputs": [],
   "source": []
  }
 ]
}