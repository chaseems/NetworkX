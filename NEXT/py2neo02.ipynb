{
 "nbformat": 4,
 "nbformat_minor": 2,
 "metadata": {
  "language_info": {
   "name": "python",
   "codemirror_mode": {
    "name": "ipython",
    "version": 3
   },
   "version": "3.6.9"
  },
  "orig_nbformat": 2,
  "file_extension": ".py",
  "mimetype": "text/x-python",
  "name": "python",
  "npconvert_exporter": "python",
  "pygments_lexer": "ipython3",
  "version": 3
 },
 "cells": [
  {
   "cell_type": "code",
   "execution_count": 1,
   "metadata": {},
   "outputs": [],
   "source": [
    "from py2neo import Node, Relationship\n",
    "from py2neo import Graph\n",
    "from py2neo.ogm import GraphObject, RelatedFrom, RelatedTo\n",
    "from py2neo.ogm import Property\n",
    "\n",
    "import json"
   ]
  },
  {
   "cell_type": "code",
   "execution_count": 2,
   "metadata": {},
   "outputs": [
    {
     "name": "stdout",
     "output_type": "stream",
     "text": "done~\n"
    }
   ],
   "source": [
    "# build connection between py2neo and neo4j\n",
    "graph = Graph(password='aaduser')\n",
    "print('done~')"
   ]
  },
  {
   "cell_type": "code",
   "execution_count": 3,
   "metadata": {},
   "outputs": [
    {
     "name": "stdout",
     "output_type": "stream",
     "text": "838488\n"
    },
    {
     "data": {
      "text/plain": "(_838485:Officer {countries: 'Taiwan', country_codes: 'TWN', name: 'NIU, Fu-Tsang', node_id: '71202', sourceID: 'Offshore Leaks', valid_until: 'The Offshore Leaks data is current through 2010'})"
     },
     "execution_count": 3,
     "metadata": {},
     "output_type": "execute_result"
    }
   ],
   "source": [
    "print(len(graph.nodes))\n",
    "graph.nodes[838485]"
   ]
  },
  {
   "cell_type": "code",
   "execution_count": 4,
   "metadata": {},
   "outputs": [],
   "source": [
    "# build 2 classes for node\n",
    "class Officer(GraphObject):\n",
    "    name = Property()\n",
    "    node_id = Property()\n",
    "    countries = Property()\n",
    "\n",
    "    # registered_address = RelatedTo(Address)\n",
    "    officer_of = RelatedTo(\"Entity\")\n",
    "    shareholder_of = RelatedTo(\"Entity\")\n",
    "    director_of = RelatedTo(\"Entity\")\n",
    "    # maybe not work for other leak data\n",
    "    alternate_director_of = RelatedTo(\"Entity\")\n",
    "    # intermediary_of = RelatedTo()\n",
    "\n",
    "class Entity(GraphObject):\n",
    "    name = Property()\n",
    "    node_id = Property()\n",
    "    \n",
    "    officers = RelatedFrom(\"Officer\",\"OFFICER_OF\")\n",
    "    shareholders = RelatedFrom(\"Officer\",\"SHAREHOLDER_OF\")\n",
    "    directors = RelatedFrom(\"Officer\",\"ALTERNATE_DIRECTOR_OF\")\n",
    "\n"
   ]
  },
  {
   "cell_type": "code",
   "execution_count": 5,
   "metadata": {},
   "outputs": [],
   "source": [
    "# build the empty dictionary for store the data from neo4j\n",
    "the_dict = {\"elements\":{\"nodes\":[],\"edges\":[]}, \"style\":{}, \"layout\":{ \"name\": \"grid\"}}"
   ]
  },
  {
   "cell_type": "code",
   "execution_count": 9,
   "metadata": {},
   "outputs": [],
   "source": [
    "\n",
    "\n",
    "# search a name\n",
    "# a_name = \"Barry Neil Mitchell\"\n",
    "a_name = \"Thierry Fernand Martino\"\n",
    "\n",
    "# get the subgraph from neo4j base on the name given\n",
    "node_out = Officer.match(graph).where(name=a_name).first()\n"
   ]
  },
  {
   "cell_type": "code",
   "execution_count": 10,
   "metadata": {},
   "outputs": [
    {
     "name": "stdout",
     "output_type": "stream",
     "text": "writed the data to test_json.json.\n"
    }
   ],
   "source": [
    "# the_dict[\"elements\"][\"nodes\"]\n",
    "\n",
    "# build empty list for nodes and edges\n",
    "node_list = []\n",
    "edge_list = []\n",
    "\n",
    "# add the core node to the node list\n",
    "node_list.append({\"data\":{\"id\":node_out.node_id,\"name\":node_out.name,\"country\":node_out.countries,\"label\":\"Officer\"}})\n",
    "\n",
    "# add the nodes and edges from the nodes of shareholder_of\n",
    "for x in node_out.shareholder_of:\n",
    "    node_list.append({\"data\":{\"id\":x.node_id,\"name\":x.name,\"label\":\"Entity\"}})\n",
    "    edge_list.append({\"data\":{\"source\":node_out.node_id,\"target\":x.node_id,\"relationship\":\"OFFICER_OF\"}})\n",
    "\n",
    "# add the nodes and edges from the nodes of alternate_director_of\n",
    "for x in node_out.alternate_director_of:\n",
    "    node_list.append({\"data\":{\"id\":x.node_id,\"name\":x.name,\"label\":\"Entity\"}})\n",
    "    edge_list.append({\"data\":{\"source\":node_out.node_id,\"target\":x.node_id,\"relationship\":\"ALTERNATE_DIRECTOR_OF\"}})\n",
    "\n",
    "# add the node list and edge list to the main dictionary ( the_dict )\n",
    "the_dict[\"elements\"][\"nodes\"] = node_list\n",
    "the_dict[\"elements\"][\"edges\"] = edge_list\n",
    "\n",
    "# print(the_dict)\n",
    "json.dumps(the_dict) # trans to json format\n",
    "\n",
    "# write json to file\n",
    "with open('test_json.json','w') as json_file:\n",
    "    json.dump(the_dict,json_file)\n",
    "print('writed the data to test_json.json.')"
   ]
  },
  {
   "cell_type": "code",
   "execution_count": 8,
   "metadata": {},
   "outputs": [
    {
     "name": "stdout",
     "output_type": "stream",
     "text": "Thierry Fernand Martino\n---Always Rock Ltd.\nThierry Mooij\n---JESS MARKETING SERVICES LLC\nThierry LEVERRIER\n---IRVINE PORTFOLIO S.A.\nThierry Semichon-Hobaïca\n---ANDSELL S.A.\nThierry ISAIA\n---ALPHA GLOBAL INDUSTRIES LTD.\nThierry ISAIA\n---Jet Ambulance International Limited\nThierry Dollat\n---HTD LIMITED\nThierry Hugnin\nThierry Amaud\n---Pepsoftware International Limited\nThierry Renard\n---Infoshare Ltd.\n---Asia-InfoShare Ltd.\n"
    }
   ],
   "source": [
    "a_all = Officer.match(graph).where(\"_.name =~ 'Thierry.*'\").limit(50)\n",
    "for a in a_all:\n",
    "    print(a.name)\n",
    "    for share_of in a.shareholder_of:\n",
    "        print('---' + share_of.name)"
   ]
  },
  {
   "cell_type": "code",
   "execution_count": 10,
   "metadata": {},
   "outputs": [
    {
     "name": "stdout",
     "output_type": "stream",
     "text": "Barry Neil Mitchell\n(_774656:Officer {countries: 'British Virgin Islands', country_codes: 'VGB', name: 'Barry Neil Mitchell', node_id: '118387', sourceID: 'Offshore Leaks', valid_until: 'The Offshore Leaks data is current through 2010'})\n"
    }
   ],
   "source": [
    "one_man = Officer.match(graph).where(name=\"Barry Neil Mitchell\").first()\n",
    "print(one_man.name)\n",
    "print(one_man.__node__)"
   ]
  },
  {
   "cell_type": "code",
   "execution_count": 11,
   "metadata": {},
   "outputs": [
    {
     "name": "stdout",
     "output_type": "stream",
     "text": "<class 'py2neo.ogm.OfficerMatch'>\n"
    },
    {
     "data": {
      "text/plain": "{'name:GREGORY JOHN SOLOMON',\n 'name:HO THUY NGA',\n 'name:KIM SOO IN',\n 'name:MATSUDA MASUMI',\n 'name:Tian Yuan'}"
     },
     "execution_count": 11,
     "metadata": {},
     "output_type": "execute_result"
    }
   ],
   "source": [
    "test_node = Officer.match(graph,\"Barry Neil Mitchell\")\n",
    "print(type(test_node))\n",
    "for node in test_node:\n",
    "    print(type(node))\n",
    "{(\"name:\"+a.name) for a in Officer.match(graph).limit(5)}"
   ]
  },
  {
   "cell_type": "code",
   "execution_count": 7,
   "metadata": {},
   "outputs": [
    {
     "ename": "NameError",
     "evalue": "name 'Person' is not defined",
     "output_type": "error",
     "traceback": [
      "\u001b[0;31m---------------------------------------------------------------------------\u001b[0m",
      "\u001b[0;31mNameError\u001b[0m                                 Traceback (most recent call last)",
      "\u001b[0;32m<ipython-input-7-b709afd95ec0>\u001b[0m in \u001b[0;36m<module>\u001b[0;34m\u001b[0m\n\u001b[0;32m----> 1\u001b[0;31m \u001b[0;34m{\u001b[0m\u001b[0;34m(\u001b[0m\u001b[0;34m\"name:\"\u001b[0m\u001b[0;34m+\u001b[0m\u001b[0ma\u001b[0m\u001b[0;34m.\u001b[0m\u001b[0mname\u001b[0m\u001b[0;34m)\u001b[0m \u001b[0;32mfor\u001b[0m \u001b[0ma\u001b[0m \u001b[0;32min\u001b[0m \u001b[0mPerson\u001b[0m\u001b[0;34m.\u001b[0m\u001b[0mmatch\u001b[0m\u001b[0;34m(\u001b[0m\u001b[0mgraph\u001b[0m\u001b[0;34m)\u001b[0m\u001b[0;34m.\u001b[0m\u001b[0mlimit\u001b[0m\u001b[0;34m(\u001b[0m\u001b[0;36m5\u001b[0m\u001b[0;34m)\u001b[0m\u001b[0;34m}\u001b[0m\u001b[0;34m\u001b[0m\u001b[0;34m\u001b[0m\u001b[0m\n\u001b[0m",
      "\u001b[0;31mNameError\u001b[0m: name 'Person' is not defined"
     ]
    }
   ],
   "source": [
    "{(\"name:\"+a.name) for a in Person.match(graph).limit(5)}"
   ]
  },
  {
   "cell_type": "code",
   "execution_count": 11,
   "metadata": {},
   "outputs": [
    {
     "name": "stdout",
     "output_type": "stream",
     "text": "[('I feel the need, the need for speed.', 1986, 'Top Gun', 'Top Gun')]\n"
    }
   ],
   "source": [
    "top10 = [(a.tag_line, a.released, a.title, a.__primaryvalue__) for a in Movie.match(graph,primary_value=\"Top Gun\").limit(10)]\n",
    "print(top10)"
   ]
  },
  {
   "cell_type": "code",
   "execution_count": 14,
   "metadata": {},
   "outputs": [
    {
     "name": "stdout",
     "output_type": "stream",
     "text": "<Person __id__=839435>\nTom Cruise\n1962\n"
    }
   ],
   "source": [
    "person = Person.match(graph).where(born=1962).first()\n",
    "print(person)\n",
    "print(person.name)\n",
    "print(person.born)"
   ]
  },
  {
   "cell_type": "code",
   "execution_count": 51,
   "metadata": {},
   "outputs": [
    {
     "name": "stdout",
     "output_type": "stream",
     "text": "A Few Good Men\nTop Gun\nJerry Maguire\n"
    }
   ],
   "source": [
    "for act in person.acted_in:\n",
    "    print(act.title)"
   ]
  },
  {
   "cell_type": "code",
   "execution_count": 15,
   "metadata": {},
   "outputs": [
    {
     "name": "stdout",
     "output_type": "stream",
     "text": "Tom Cruise\n---A Few Good Men\n---Top Gun\n---Jerry Maguire\nDemi Moore\n---A Few Good Men\nAnthony Edwards\n---Top Gun\nKelly Preston\n---Jerry Maguire\nRosie O'Donnell\n---A League of Their Own\n---Sleepless in Seattle\n"
    }
   ],
   "source": [
    "person2 = Person.match(graph).where(born=1962)\n",
    "for per in person2:\n",
    "    print(per.name)\n",
    "    for act in per.acted_in:\n",
    "        print('---'+act.title)"
   ]
  },
  {
   "cell_type": "code",
   "execution_count": 16,
   "metadata": {},
   "outputs": [
    {
     "name": "stdout",
     "output_type": "stream",
     "text": "Kevin Bacon\nKiefer Sutherland\nKevin Pollak\nKelly McGillis\nKeanu Reeves\nKelly Preston\n"
    }
   ],
   "source": [
    "person_list = list(Person.match(graph).where(\"_.name =~ 'K.*'\"))\n",
    "for item in person_list:\n",
    "    print(item.name)"
   ]
  },
  {
   "cell_type": "markdown",
   "execution_count": null,
   "metadata": {},
   "outputs": [],
   "source": [
    "### One example:\n",
    "<id>:\n",
    "493841\n",
    "countries:\n",
    "China\n",
    "country_codes:\n",
    "CHN\n",
    "icij_id:\n",
    "58287E0FD37852000D9D5AB8B27A2581\n",
    "name:\n",
    "Tian Yuan\n",
    "node_id:\n",
    "12000002\n",
    "sourceID:\n",
    "Panama Papers\n",
    "valid_until:\n",
    "The Panama Papers data is current through 2015\n",
    "### relationship:\n",
    "registered_address\n",
    "shareholder_of\n",
    "intermediary_of"
   ]
  },
  {
   "cell_type": "markdown",
   "execution_count": null,
   "metadata": {},
   "outputs": [],
   "source": [
    "\"elements\": {\n",
    "        \"nodes\": [\n",
    "          {\"data\": {\"id\": \"172\", \"name\": \"Tom Cruise\", \"label\": \"Person\"}},\n",
    "          {\"data\": {\"id\": \"183\", \"title\": \"Top Gun\", \"label\": \"Movie\"}}\n",
    "        ],\n",
    "        \"edges\": [{\"data\": {\"source\": \"172\", \"target\": \"183\", \"relationship\": \"Acted_In\"}}]\n",
    "      }"
   ]
  },
  {
   "cell_type": "code",
   "execution_count": null,
   "metadata": {},
   "outputs": [],
   "source": []
  },
  {
   "cell_type": "code",
   "execution_count": 80,
   "metadata": {},
   "outputs": [
    {
     "name": "stdout",
     "output_type": "stream",
     "text": "CELLO HOLDINGS LIMITED\n"
    }
   ],
   "source": [
    "for share_of in tian.shareholder_of:\n",
    "    print(officer_of.name)\n"
   ]
  }
 ]
}